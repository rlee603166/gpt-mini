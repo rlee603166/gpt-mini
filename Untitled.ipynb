{
 "cells": [
  {
   "cell_type": "code",
   "execution_count": 7,
   "id": "676ad831-ac87-4d98-aa30-19c26eee7d4f",
   "metadata": {
    "scrolled": true
   },
   "outputs": [
    {
     "name": "stdout",
     "output_type": "stream",
     "text": [
      "Requirement already satisfied: lxml in ./.venv/lib/python3.11/site-packages (5.3.0)\n",
      "\n",
      "\u001b[1m[\u001b[0m\u001b[34;49mnotice\u001b[0m\u001b[1;39;49m]\u001b[0m\u001b[39;49m A new release of pip is available: \u001b[0m\u001b[31;49m24.2\u001b[0m\u001b[39;49m -> \u001b[0m\u001b[32;49m24.3.1\u001b[0m\n",
      "\u001b[1m[\u001b[0m\u001b[34;49mnotice\u001b[0m\u001b[1;39;49m]\u001b[0m\u001b[39;49m To update, run: \u001b[0m\u001b[32;49mpip install --upgrade pip\u001b[0m\n",
      "Requirement already satisfied: requests in ./.venv/lib/python3.11/site-packages (2.32.3)\n",
      "Requirement already satisfied: beautifulsoup4 in ./.venv/lib/python3.11/site-packages (4.12.3)\n",
      "Requirement already satisfied: charset-normalizer<4,>=2 in ./.venv/lib/python3.11/site-packages (from requests) (3.4.0)\n",
      "Requirement already satisfied: idna<4,>=2.5 in ./.venv/lib/python3.11/site-packages (from requests) (3.10)\n",
      "Requirement already satisfied: urllib3<3,>=1.21.1 in ./.venv/lib/python3.11/site-packages (from requests) (2.2.3)\n",
      "Requirement already satisfied: certifi>=2017.4.17 in ./.venv/lib/python3.11/site-packages (from requests) (2024.8.30)\n",
      "Requirement already satisfied: soupsieve>1.2 in ./.venv/lib/python3.11/site-packages (from beautifulsoup4) (2.6)\n",
      "\n",
      "\u001b[1m[\u001b[0m\u001b[34;49mnotice\u001b[0m\u001b[1;39;49m]\u001b[0m\u001b[39;49m A new release of pip is available: \u001b[0m\u001b[31;49m24.2\u001b[0m\u001b[39;49m -> \u001b[0m\u001b[32;49m24.3.1\u001b[0m\n",
      "\u001b[1m[\u001b[0m\u001b[34;49mnotice\u001b[0m\u001b[1;39;49m]\u001b[0m\u001b[39;49m To update, run: \u001b[0m\u001b[32;49mpip install --upgrade pip\u001b[0m\n",
      "Collecting pandas\n",
      "  Using cached pandas-2.2.3-cp311-cp311-macosx_11_0_arm64.whl.metadata (89 kB)\n",
      "Requirement already satisfied: numpy>=1.23.2 in ./.venv/lib/python3.11/site-packages (from pandas) (2.1.3)\n",
      "Requirement already satisfied: python-dateutil>=2.8.2 in ./.venv/lib/python3.11/site-packages (from pandas) (2.9.0.post0)\n",
      "Collecting pytz>=2020.1 (from pandas)\n",
      "  Using cached pytz-2024.2-py2.py3-none-any.whl.metadata (22 kB)\n",
      "Collecting tzdata>=2022.7 (from pandas)\n",
      "  Using cached tzdata-2024.2-py2.py3-none-any.whl.metadata (1.4 kB)\n",
      "Requirement already satisfied: six>=1.5 in ./.venv/lib/python3.11/site-packages (from python-dateutil>=2.8.2->pandas) (1.16.0)\n",
      "Using cached pandas-2.2.3-cp311-cp311-macosx_11_0_arm64.whl (11.3 MB)\n",
      "Using cached pytz-2024.2-py2.py3-none-any.whl (508 kB)\n",
      "Using cached tzdata-2024.2-py2.py3-none-any.whl (346 kB)\n",
      "Installing collected packages: pytz, tzdata, pandas\n",
      "Successfully installed pandas-2.2.3 pytz-2024.2 tzdata-2024.2\n",
      "\n",
      "\u001b[1m[\u001b[0m\u001b[34;49mnotice\u001b[0m\u001b[1;39;49m]\u001b[0m\u001b[39;49m A new release of pip is available: \u001b[0m\u001b[31;49m24.2\u001b[0m\u001b[39;49m -> \u001b[0m\u001b[32;49m24.3.1\u001b[0m\n",
      "\u001b[1m[\u001b[0m\u001b[34;49mnotice\u001b[0m\u001b[1;39;49m]\u001b[0m\u001b[39;49m To update, run: \u001b[0m\u001b[32;49mpip install --upgrade pip\u001b[0m\n"
     ]
    }
   ],
   "source": [
    "!pip install lxml\n",
    "!pip install requests beautifulsoup4\n",
    "!pip install pandas"
   ]
  },
  {
   "cell_type": "code",
   "execution_count": 2,
   "id": "73fbf745-9fe9-49c0-881c-b674270aea11",
   "metadata": {},
   "outputs": [],
   "source": [
    "from bs4 import BeautifulSoup\n",
    "import json\n",
    "import time"
   ]
  },
  {
   "cell_type": "code",
   "execution_count": 3,
   "id": "fdcc3788-c956-4d7b-b298-22b7d06fc40d",
   "metadata": {},
   "outputs": [],
   "source": [
    "with open('all_courses.html') as f:\n",
    "    html_content = f.read()"
   ]
  },
  {
   "cell_type": "code",
   "execution_count": 8,
   "id": "3c871ca0-bf98-40b3-a15a-a93e86ed38db",
   "metadata": {},
   "outputs": [
    {
     "name": "stdout",
     "output_type": "stream",
     "text": [
      "Starting parse...\n",
      "Reading file...\n",
      "Creating soup...\n",
      "Extracting courses...\n",
      "Processing course 0/3551\n",
      "Processing course 100/3551\n",
      "Processing course 200/3551\n",
      "Processing course 300/3551\n",
      "Processing course 400/3551\n",
      "Processing course 500/3551\n",
      "Processing course 600/3551\n",
      "Processing course 700/3551\n",
      "Processing course 800/3551\n",
      "Processing course 900/3551\n",
      "Processing course 1000/3551\n",
      "Processing course 1100/3551\n",
      "Processing course 1200/3551\n",
      "Processing course 1300/3551\n",
      "Processing course 1400/3551\n",
      "Processing course 1500/3551\n",
      "Processing course 1600/3551\n",
      "Processing course 1700/3551\n",
      "Processing course 1800/3551\n",
      "Processing course 1900/3551\n",
      "Processing course 2000/3551\n",
      "Processing course 2100/3551\n",
      "Processing course 2200/3551\n",
      "Processing course 2300/3551\n",
      "Processing course 2400/3551\n",
      "Processing course 2500/3551\n",
      "Processing course 2600/3551\n",
      "Processing course 2700/3551\n",
      "Processing course 2800/3551\n",
      "Processing course 2900/3551\n",
      "Processing course 3000/3551\n",
      "Processing course 3100/3551\n",
      "Processing course 3200/3551\n",
      "Processing course 3300/3551\n",
      "Processing course 3400/3551\n",
      "Processing course 3500/3551\n",
      "\n",
      "Completed in 1883.61 seconds\n",
      "Converting to DataFrame...\n",
      "Saving files...\n",
      "Done!\n"
     ]
    }
   ],
   "source": [
    "from bs4 import BeautifulSoup\n",
    "import json\n",
    "import time\n",
    "import pandas as pd\n",
    "\n",
    "def scrape_courses(html_file):\n",
    "    print(\"Starting parse...\")\n",
    "    start_time = time.time()\n",
    "    \n",
    "    # Read file content once\n",
    "    print(\"Reading file...\")\n",
    "    with open(html_file, 'r') as f:\n",
    "        content = f.read()\n",
    "    \n",
    "    print(\"Creating soup...\")\n",
    "    soup = BeautifulSoup(content, 'html.parser')\n",
    "    \n",
    "    print(\"Extracting courses...\")\n",
    "    courses = {}\n",
    "    description_divs = soup.find_all(id=lambda x: x and x.startswith('rpResults_rowdescription_'))\n",
    "    total = len(description_divs)\n",
    "    \n",
    "    for i, row in enumerate(description_divs):\n",
    "        if i % 100 == 0:  # Progress update every 100 courses\n",
    "            print(f\"Processing course {i}/{total}\")\n",
    "            \n",
    "        try:\n",
    "            index = row['id'].split('_')[-1]\n",
    "            course_num = soup.find(id=f'rpResults_lblCNum_{index}')\n",
    "            if not course_num:\n",
    "                continue\n",
    "                \n",
    "            course_num = course_num.text.strip()\n",
    "            if course_num not in courses:  # Avoid duplicates\n",
    "                title_elem = soup.find(id=f'rpResults_lblTitle_{index}')\n",
    "                title = title_elem.text.strip() if title_elem else \"No title\"\n",
    "                desc = row.find('span').text.strip() if row.find('span') else \"No description\"\n",
    "                \n",
    "                courses[course_num] = {\n",
    "                    'title': title,\n",
    "                    'description': desc\n",
    "                }\n",
    "        except Exception as e:\n",
    "            print(f\"Error processing course: {e}\")\n",
    "            continue\n",
    "    \n",
    "    print(f\"\\nCompleted in {time.time() - start_time:.2f} seconds\")\n",
    "    return courses\n",
    "\n",
    "# Run the scraper\n",
    "courses = scrape_courses('all_courses.html')\n",
    "\n",
    "# Convert to DataFrame\n",
    "print(\"Converting to DataFrame...\")\n",
    "df = pd.DataFrame.from_dict(courses, orient='index')\n",
    "df.index.name = 'course_number'\n",
    "\n",
    "# Save both formats\n",
    "print(\"Saving files...\")\n",
    "df.to_csv('courses.csv')\n",
    "with open('courses.json', 'w') as f:\n",
    "    json.dump(courses, f, indent=2)\n",
    "\n",
    "print(\"Done!\")"
   ]
  },
  {
   "cell_type": "code",
   "execution_count": null,
   "id": "5308daad-e627-4f14-b5bd-f6a73e400019",
   "metadata": {},
   "outputs": [],
   "source": [
    "import pandas as pd\n",
    "\n",
    "courses_df = pd.DataFrame.from_dict(courses, orient='index')\n",
    "courses_df.to_csv('courses.csv')"
   ]
  },
  {
   "cell_type": "code",
   "execution_count": 10,
   "id": "dfded1bb-a1d3-4006-97ff-f35e721cb417",
   "metadata": {},
   "outputs": [],
   "source": [
    "import pandas as pd"
   ]
  },
  {
   "cell_type": "code",
   "execution_count": 12,
   "id": "e6facc08-7ea4-414e-93ed-2816d7f77fd7",
   "metadata": {},
   "outputs": [
    {
     "data": {
      "text/html": [
       "<div>\n",
       "<style scoped>\n",
       "    .dataframe tbody tr th:only-of-type {\n",
       "        vertical-align: middle;\n",
       "    }\n",
       "\n",
       "    .dataframe tbody tr th {\n",
       "        vertical-align: top;\n",
       "    }\n",
       "\n",
       "    .dataframe thead th {\n",
       "        text-align: right;\n",
       "    }\n",
       "</style>\n",
       "<table border=\"1\" class=\"dataframe\">\n",
       "  <thead>\n",
       "    <tr style=\"text-align: right;\">\n",
       "      <th></th>\n",
       "      <th>course_number</th>\n",
       "      <th>title</th>\n",
       "      <th>description</th>\n",
       "    </tr>\n",
       "  </thead>\n",
       "  <tbody>\n",
       "    <tr>\n",
       "      <th>0</th>\n",
       "      <td>ACC 201-1</td>\n",
       "      <td>Financial Accounting</td>\n",
       "      <td>This course is an introduction to the principl...</td>\n",
       "    </tr>\n",
       "    <tr>\n",
       "      <th>1</th>\n",
       "      <td>ACC 201-2</td>\n",
       "      <td>Financial Accounting</td>\n",
       "      <td>This course is an introduction to the principl...</td>\n",
       "    </tr>\n",
       "    <tr>\n",
       "      <th>2</th>\n",
       "      <td>ACC 221-1</td>\n",
       "      <td>Managerial Accounting</td>\n",
       "      <td>ACC 221 provides students with a framework to ...</td>\n",
       "    </tr>\n",
       "    <tr>\n",
       "      <th>3</th>\n",
       "      <td>ACC 222-1</td>\n",
       "      <td>Financial Statement Analysis</td>\n",
       "      <td>The course objective is to develop and sharpen...</td>\n",
       "    </tr>\n",
       "    <tr>\n",
       "      <th>4</th>\n",
       "      <td>ACC 225-1</td>\n",
       "      <td>Intermediate Accounting II</td>\n",
       "      <td>This course builds upon the underlying framewo...</td>\n",
       "    </tr>\n",
       "  </tbody>\n",
       "</table>\n",
       "</div>"
      ],
      "text/plain": [
       "  course_number                         title  \\\n",
       "0     ACC 201-1          Financial Accounting   \n",
       "1     ACC 201-2          Financial Accounting   \n",
       "2     ACC 221-1         Managerial Accounting   \n",
       "3     ACC 222-1  Financial Statement Analysis   \n",
       "4     ACC 225-1    Intermediate Accounting II   \n",
       "\n",
       "                                         description  \n",
       "0  This course is an introduction to the principl...  \n",
       "1  This course is an introduction to the principl...  \n",
       "2  ACC 221 provides students with a framework to ...  \n",
       "3  The course objective is to develop and sharpen...  \n",
       "4  This course builds upon the underlying framewo...  "
      ]
     },
     "execution_count": 12,
     "metadata": {},
     "output_type": "execute_result"
    }
   ],
   "source": [
    "df = pd.read_csv('courses.csv')\n",
    "df.head()"
   ]
  },
  {
   "cell_type": "code",
   "execution_count": 13,
   "id": "aba64b6b-15cf-4560-8e9a-4503d9dd6276",
   "metadata": {},
   "outputs": [
    {
     "data": {
      "text/plain": [
       "(3551, 3)"
      ]
     },
     "execution_count": 13,
     "metadata": {},
     "output_type": "execute_result"
    }
   ],
   "source": [
    "df.shape"
   ]
  },
  {
   "cell_type": "code",
   "execution_count": 14,
   "id": "1dc42efb-253c-4f8e-9b96-7b5e88167e17",
   "metadata": {},
   "outputs": [],
   "source": [
    "df = df[df['description'] != 'Blank Description']"
   ]
  },
  {
   "cell_type": "code",
   "execution_count": 15,
   "id": "dc5d8701-d5da-4ef3-93da-4dbe539ddcc2",
   "metadata": {},
   "outputs": [
    {
     "data": {
      "text/plain": [
       "(2881, 3)"
      ]
     },
     "execution_count": 15,
     "metadata": {},
     "output_type": "execute_result"
    }
   ],
   "source": [
    "df.shape"
   ]
  },
  {
   "cell_type": "code",
   "execution_count": 16,
   "id": "ff658d09-7007-4ade-aa23-f678b696658b",
   "metadata": {},
   "outputs": [
    {
     "data": {
      "text/plain": [
       "(1387, 3)"
      ]
     },
     "execution_count": 16,
     "metadata": {},
     "output_type": "execute_result"
    }
   ],
   "source": [
    "df = df.drop_duplicates(subset=['title'], keep='first')\n",
    "df.shape"
   ]
  },
  {
   "cell_type": "code",
   "execution_count": 17,
   "id": "0b5005a3-9131-4700-a88c-c094021473fc",
   "metadata": {},
   "outputs": [],
   "source": [
    "df.to_csv('courses.csv')"
   ]
  },
  {
   "cell_type": "code",
   "execution_count": null,
   "id": "132928e5-b0df-40db-9a3f-f0a76a604995",
   "metadata": {},
   "outputs": [],
   "source": []
  }
 ],
 "metadata": {
  "kernelspec": {
   "display_name": "Python 3 (ipykernel)",
   "language": "python",
   "name": "python3"
  },
  "language_info": {
   "codemirror_mode": {
    "name": "ipython",
    "version": 3
   },
   "file_extension": ".py",
   "mimetype": "text/x-python",
   "name": "python",
   "nbconvert_exporter": "python",
   "pygments_lexer": "ipython3",
   "version": "3.11.10"
  }
 },
 "nbformat": 4,
 "nbformat_minor": 5
}
